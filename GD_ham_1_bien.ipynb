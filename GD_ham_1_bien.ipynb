{
  "nbformat": 4,
  "nbformat_minor": 0,
  "metadata": {
    "colab": {
      "provenance": []
    },
    "kernelspec": {
      "name": "python3",
      "display_name": "Python 3"
    },
    "language_info": {
      "name": "python"
    }
  },
  "cells": [
    {
      "cell_type": "markdown",
      "source": [
        "Xét hàm số $f(x) = x^2 + 5sin(x)$ với đạo hàm $f^{'}(x) = 2x +5cos(x)$\\\n",
        "Giả sử ta xuất phát từ điểm $x_0$, quy tắc để cập nhật lại vòng lặp thứ $t$ là: \n",
        "$$x_{t+1} = x_t -\\eta (2x_t + 5cos(x_t))$$\n",
        "Khi thực hiện trên python ta cần xây dựng các hàm số: \\\n",
        "1. $grad$ để tính đạo hàm. \n",
        "2. $cost$ để tính giá trị của hàm số. \n",
        "3. $myGD1$ là phân chính thực hiện thuật toán GD. Đầu vào của hàm này là $x_0$ và $\\eta$. \\\n",
        "Ta sẽ dừng thuật toán khi đạo hàm đủ nhỏ\n"
      ],
      "metadata": {
        "id": "T1VUpyVTLM1v"
      }
    },
    {
      "cell_type": "code",
      "source": [
        "import numpy as np"
      ],
      "metadata": {
        "id": "tBw7F8BdMZlV"
      },
      "execution_count": 18,
      "outputs": []
    },
    {
      "cell_type": "code",
      "execution_count": 24,
      "metadata": {
        "id": "Gu2_yoVbK8Bl"
      },
      "outputs": [],
      "source": [
        "def grad(x): \n",
        "  return 2*x + 5*np.cos(x)"
      ]
    },
    {
      "cell_type": "code",
      "source": [
        "def cost(x):\n",
        "  return x**2 + 5*np.sin(x)"
      ],
      "metadata": {
        "id": "0si98n0oMhog"
      },
      "execution_count": 25,
      "outputs": []
    },
    {
      "cell_type": "code",
      "source": [
        "def myGD1(x0, eta): \n",
        "  x = [x0] # luu cac gia tri x tai tung thoi diem\n",
        "  for it in range(1000): \n",
        "    x_new = x[-1] -eta*grad(x[-1])\n",
        "    if abs(grad(x_new)) < 1e-3: #có thể thay đổi giá trị dừng thuật toán này \n",
        "      break\n",
        "    x.append(x_new)\n",
        "  return (x, it)\n"
      ],
      "metadata": {
        "id": "X3fspBcEMo36"
      },
      "execution_count": 26,
      "outputs": []
    },
    {
      "cell_type": "markdown",
      "source": [
        "Sau khi có các hàm cần thiết, ta tìm ngiệm với các điểm xuất phát khác nhau $x_0 = -5$ và $x_0 = 5$ với cùng tốc độ học $\\eta = 0.1$. "
      ],
      "metadata": {
        "id": "1QArQqaUNcju"
      }
    },
    {
      "cell_type": "code",
      "source": [
        "(x1, it1) = myGD1(-5, 0.1)\n",
        "(x2, it2) = myGD1(5, 0.1)\n",
        "print('Solution x1 = %f, cost = %f, after %d iterations'\\\n",
        "      %(x1[-1], cost(x1[-1]), it1))\n",
        "print('Solution x2 = %f, cost = %f, after %d iterations'\\\n",
        "      %(x2[-1], cost(x2[-1]), it2))\n",
        "\n"
      ],
      "metadata": {
        "colab": {
          "base_uri": "https://localhost:8080/"
        },
        "id": "_OIv7RnwNZDW",
        "outputId": "d9189c9c-ff99-40eb-e812-c8ebd1adb172"
      },
      "execution_count": 27,
      "outputs": [
        {
          "output_type": "stream",
          "name": "stdout",
          "text": [
            "Solution x1 = -1.110667, cost = -3.246394, after 11 iterations\n",
            "Solution x2 = -1.110341, cost = -3.246394, after 29 iterations\n"
          ]
        }
      ]
    },
    {
      "cell_type": "code",
      "source": [],
      "metadata": {
        "id": "VleDMQLWOTXf"
      },
      "execution_count": 22,
      "outputs": []
    }
  ]
}