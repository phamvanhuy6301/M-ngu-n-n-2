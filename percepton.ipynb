{
  "nbformat": 4,
  "nbformat_minor": 0,
  "metadata": {
    "colab": {
      "provenance": []
    },
    "kernelspec": {
      "name": "python3",
      "display_name": "Python 3"
    },
    "language_info": {
      "name": "python"
    }
  },
  "cells": [
    {
      "cell_type": "markdown",
      "source": [
        "##Vấn đề dữ liệu train và test##\n",
        "Ta sẽ tạo 2 bộ dữ liệu tách biệt nhau. Hai bộ dữ liệu này tuân theo phân bố chuẩn 2 chiều $N_2(\\mu, \\sum)$\n",
        "- Bộ như nhất có: $\\mu_1 = [-1,0] $ \n",
        "- Bộ nhứ hai có $\\mu_2 = [1, 0]$\n",
        "Cả hai bộ dữ liệu có ma trận hiệp phương sai: $[[0.3, 0.2]; [0.2, 0.3]$\n",
        "=> hai bộ này tách biệt tuyến tính. \n",
        "Mỗi bộ dữ liệu ta tạo 20 quan sát. "
      ],
      "metadata": {
        "id": "URn8zEQ1FKs6"
      }
    },
    {
      "cell_type": "code",
      "source": [
        "import numpy as np\n",
        "import matplotlib.pyplot as plt\n"
      ],
      "metadata": {
        "id": "Z0W3_x96HWnJ"
      },
      "execution_count": null,
      "outputs": []
    },
    {
      "cell_type": "markdown",
      "source": [
        "Ta mặc định bộ dữ liệu 1 (màu đỏ) có nhãn y = -1. \\\\\n",
        "Bộ dữ liệu 2 (màu xanh) có nhãn y = 1. "
      ],
      "metadata": {
        "id": "Hwu-9i5BKzpH"
      }
    },
    {
      "cell_type": "code",
      "source": [
        "def find_error(w): \n",
        "  error = np.zeros((2*N, 1))\n",
        "  for i in range(2*N):\n",
        "    if  y[i]*np.dot(Xbar[i], w) < 0: \n",
        "      error[i] = 1\n",
        "  return error\n",
        "\n"
      ],
      "metadata": {
        "id": "biuDux_eH_lW"
      },
      "execution_count": null,
      "outputs": []
    },
    {
      "cell_type": "code",
      "source": [
        "def update_w(w):\n",
        "  r = find_error(w)\n",
        "  count = np.sum(r)\n",
        "  while count != 0:\n",
        "    k = -1 # find index of element has value equal 1. \n",
        "    for i in range(2*N): \n",
        "       if r[i] == 1: \n",
        "          k = i\n",
        "          break\n",
        "    if k != -1:\n",
        "        w = w + y[k]*np.reshape(Xbar[k], (-1, 1)) \n",
        "        r = find_error(w)\n",
        "        count = np.sum(r)\n",
        "  return w\n"
      ],
      "metadata": {
        "id": "mCt9A9-lQBXr"
      },
      "execution_count": null,
      "outputs": []
    },
    {
      "cell_type": "code",
      "source": [
        "mean = [[-1, 0], [1,0]]\n",
        "cov = [[0.3, 0.2], [0.2, 0.3]]\n",
        "N =50\n",
        "np.random.seed(22)\n",
        "X0 = np.random.multivariate_normal(mean[0], cov, N)\n",
        "X1 = np.random.multivariate_normal(mean[1], cov,N)\n",
        "X = np.concatenate((X0, X1), axis = 0)\n",
        "one = np.ones((N, 1))\n",
        "y = np.concatenate((-one, one), axis = 0)\n",
        "Xbar = np.concatenate(( np.ones((2*N, 1)), X), axis = 1)\n",
        "w = np.ones((Xbar.shape[1],1))\n",
        "w = update_w(w)\n",
        "print(w)\n",
        "\n",
        "\n",
        "\n"
      ],
      "metadata": {
        "id": "dxbzPWzHLrX7",
        "colab": {
          "base_uri": "https://localhost:8080/"
        },
        "outputId": "17579ff8-198a-4ac6-87ff-a0800b56dfbd"
      },
      "execution_count": null,
      "outputs": [
        {
          "output_type": "stream",
          "name": "stdout",
          "text": [
            "[[ 1.        ]\n",
            " [ 3.04656923]\n",
            " [-1.18758022]]\n"
          ]
        }
      ]
    },
    {
      "cell_type": "code",
      "source": [
        "plt.plot(X0[:, 0], X0[:,1], 'o',label = 'data 1', color = 'red')\n",
        "plt.plot(X1[:, 0], X1[:,1], 'v', label = 'data 2', color = 'green')\n",
        "x = np.linspace(-2,2,100)\n",
        "y = (-w[0] - w[1]*x)/w[2]\n",
        "plt.plot(x, y, '-b')\n",
        "plt.show()"
      ],
      "metadata": {
        "id": "OXXAOb5gKxKg",
        "colab": {
          "base_uri": "https://localhost:8080/",
          "height": 265
        },
        "outputId": "891e1b27-cf04-46a5-99d0-aef8774ca11f"
      },
      "execution_count": null,
      "outputs": [
        {
          "output_type": "display_data",
          "data": {
            "text/plain": [
              "<Figure size 432x288 with 1 Axes>"
            ],
            "image/png": "[encoded data removed]"
          },
          "metadata": {
            "needs_background": "light"
          }
        }
      ]
    }
  ]
}